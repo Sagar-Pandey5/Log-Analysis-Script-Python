{
 "cells": [
  {
   "cell_type": "markdown",
   "id": "d783f534-395c-4929-9b06-9db7214adf11",
   "metadata": {},
   "source": [
    "**Importing Necessary Library**"
   ]
  },
  {
   "cell_type": "code",
   "execution_count": 1,
   "id": "5f856fca-9aa5-4ce8-8198-3793fb887667",
   "metadata": {},
   "outputs": [],
   "source": [
    "import re\n",
    "import csv\n",
    "import pandas as pd\n",
    "import numpy as np\n",
    "from collections import defaultdict"
   ]
  },
  {
   "cell_type": "markdown",
   "id": "b2403c21-1a3a-4a2e-b9ae-8fca1838b54b",
   "metadata": {},
   "source": [
    "**Creating Sample File**"
   ]
  },
  {
   "cell_type": "code",
   "execution_count": 2,
   "id": "6f761a8b-64d6-4d5d-af79-fd95afc5678f",
   "metadata": {},
   "outputs": [],
   "source": [
    "log_content = \"\"\"\\\n",
    "192.168.1.1 - - [03/Dec/2024:10:12:34 +0000] \"GET /home HTTP/1.1\" 200 512\n",
    "203.0.113.5 - - [03/Dec/2024:10:12:35 +0000] \"POST /login HTTP/1.1\" 401 128 \"Invalid credentials\"\n",
    "10.0.0.2 - - [03/Dec/2024:10:12:36 +0000] \"GET /about HTTP/1.1\" 200 256\n",
    "192.168.1.1 - - [03/Dec/2024:10:12:37 +0000] \"GET /contact HTTP/1.1\" 200 312\n",
    "198.51.100.23 - - [03/Dec/2024:10:12:38 +0000] \"POST /register HTTP/1.1\" 200 128\n",
    "203.0.113.5 - - [03/Dec/2024:10:12:39 +0000] \"POST /login HTTP/1.1\" 401 128 \"Invalid credentials\"\n",
    "192.168.1.100 - - [03/Dec/2024:10:12:40 +0000] \"POST /login HTTP/1.1\" 401 128 \"Invalid credentials\"\n",
    "10.0.0.2 - - [03/Dec/2024:10:12:41 +0000] \"GET /dashboard HTTP/1.1\" 200 1024\n",
    "198.51.100.23 - - [03/Dec/2024:10:12:42 +0000] \"GET /about HTTP/1.1\" 200 256\n",
    "192.168.1.1 - - [03/Dec/2024:10:12:43 +0000] \"GET /dashboard HTTP/1.1\" 200 1024\n",
    "203.0.113.5 - - [03/Dec/2024:10:12:44 +0000] \"POST /login HTTP/1.1\" 401 128 \"Invalid credentials\"\n",
    "203.0.113.5 - - [03/Dec/2024:10:12:45 +0000] \"POST /login HTTP/1.1\" 401 128 \"Invalid credentials\"\n",
    "192.168.1.100 - - [03/Dec/2024:10:12:46 +0000] \"POST /login HTTP/1.1\" 401 128 \"Invalid credentials\"\n",
    "10.0.0.2 - - [03/Dec/2024:10:12:47 +0000] \"GET /profile HTTP/1.1\" 200 768\n",
    "192.168.1.1 - - [03/Dec/2024:10:12:48 +0000] \"GET /home HTTP/1.1\" 200 512\n",
    "198.51.100.23 - - [03/Dec/2024:10:12:49 +0000] \"POST /feedback HTTP/1.1\" 200 128\n",
    "203.0.113.5 - - [03/Dec/2024:10:12:50 +0000] \"POST /login HTTP/1.1\" 401 128 \"Invalid credentials\"\n",
    "192.168.1.1 - - [03/Dec/2024:10:12:51 +0000] \"GET /home HTTP/1.1\" 200 512\n",
    "198.51.100.23 - - [03/Dec/2024:10:12:52 +0000] \"GET /about HTTP/1.1\" 200 256\n",
    "203.0.113.5 - - [03/Dec/2024:10:12:53 +0000] \"POST /login HTTP/1.1\" 401 128 \"Invalid credentials\"\n",
    "192.168.1.100 - - [03/Dec/2024:10:12:54 +0000] \"POST /login HTTP/1.1\" 401 128 \"Invalid credentials\"\n",
    "10.0.0.2 - - [03/Dec/2024:10:12:55 +0000] \"GET /contact HTTP/1.1\" 200 512\n",
    "198.51.100.23 - - [03/Dec/2024:10:12:56 +0000] \"GET /home HTTP/1.1\" 200 512\n",
    "192.168.1.100 - - [03/Dec/2024:10:12:57 +0000] \"POST /login HTTP/1.1\" 401 128 \"Invalid credentials\"\n",
    "203.0.113.5 - - [03/Dec/2024:10:12:58 +0000] \"POST /login HTTP/1.1\" 401 128 \"Invalid credentials\"\n",
    "10.0.0.2 - - [03/Dec/2024:10:12:59 +0000] \"GET /dashboard HTTP/1.1\" 200 1024\n",
    "192.168.1.1 - - [03/Dec/2024:10:13:00 +0000] \"GET /about HTTP/1.1\" 200 256\n",
    "198.51.100.23 - - [03/Dec/2024:10:13:01 +0000] \"POST /register HTTP/1.1\" 200 128\n",
    "203.0.113.5 - - [03/Dec/2024:10:13:02 +0000] \"POST /login HTTP/1.1\" 401 128 \"Invalid credentials\"\n",
    "192.168.1.100 - - [03/Dec/2024:10:13:03 +0000] \"POST /login HTTP/1.1\" 401 128 \"Invalid credentials\"\n",
    "10.0.0.2 - - [03/Dec/2024:10:13:04 +0000] \"GET /profile HTTP/1.1\" 200 768\n",
    "198.51.100.23 - - [03/Dec/2024:10:13:05 +0000] \"GET /about HTTP/1.1\" 200 256\n",
    "192.168.1.1 - - [03/Dec/2024:10:13:06 +0000] \"GET /home HTTP/1.1\" 200 512\n",
    "198.51.100.23 - - [03/Dec/2024:10:13:07 +0000] \"POST /feedback HTTP/1.1\" 200 128\n",
    "\"\"\""
   ]
  },
  {
   "cell_type": "code",
   "execution_count": 3,
   "id": "816c3165-26a2-44cd-8a8f-dfadc6a04089",
   "metadata": {},
   "outputs": [],
   "source": [
    "# Saving the sample data into log extension\n",
    "with open(\"sample.log\", \"w\") as file:\n",
    "    file.write(log_content)"
   ]
  },
  {
   "cell_type": "code",
   "execution_count": null,
   "id": "bf75853c-aa02-412a-b703-4fe40afacde7",
   "metadata": {},
   "outputs": [],
   "source": []
  },
  {
   "cell_type": "code",
   "execution_count": null,
   "id": "3f71357f-6744-42f1-81c0-9c4b0e161f1a",
   "metadata": {},
   "outputs": [],
   "source": []
  },
  {
   "cell_type": "markdown",
   "id": "70eeb612-070f-4485-b4bd-7d8d287641bd",
   "metadata": {},
   "source": [
    "**Parsing the log file to extract data**"
   ]
  },
  {
   "cell_type": "code",
   "execution_count": 4,
   "id": "a8eff8b5-c63c-4b27-b526-ce79c2d28ce2",
   "metadata": {},
   "outputs": [],
   "source": [
    "def parse_log(file_path):\n",
    "    log_data = []\n",
    "    log_pattern = re.compile(r'(?P<ip>\\d+\\.\\d+\\.\\d+\\.\\d+) - - \\[.*?\\] \".*? (?P<endpoint>/[^\\s]*) .*?\" (?P<status>\\d+)')\n",
    "    with open(file_path, 'r') as file:\n",
    "        for line in file:\n",
    "            match = log_pattern.search(line)\n",
    "            if match:\n",
    "                log_data.append({\n",
    "                    'ip': match.group('ip'),\n",
    "                    'endpoint': match.group('endpoint'),\n",
    "                    'status': int(match.group('status'))\n",
    "                })\n",
    "    return log_data"
   ]
  },
  {
   "cell_type": "code",
   "execution_count": null,
   "id": "40a81325-5a0d-4e4e-82b1-ee8e3ef7f58f",
   "metadata": {},
   "outputs": [],
   "source": []
  },
  {
   "cell_type": "code",
   "execution_count": null,
   "id": "5b3d4187-21a6-4d9e-9089-ac6d4fb568e5",
   "metadata": {},
   "outputs": [],
   "source": []
  },
  {
   "cell_type": "markdown",
   "id": "b4c90b02-5c39-4885-bedf-8facd09c8d13",
   "metadata": {},
   "source": [
    "**Requests per IP**"
   ]
  },
  {
   "cell_type": "code",
   "execution_count": 5,
   "id": "6431305a-eb60-497b-a5ac-4e54e971c4b7",
   "metadata": {},
   "outputs": [],
   "source": [
    "def count_requests_per_ip(log_data):\n",
    "    ip_counts = defaultdict(int)\n",
    "    for entry in log_data:\n",
    "        ip_counts[entry['ip']] += 1\n",
    "    return sorted(ip_counts.items(), key=lambda x: x[1], reverse=True)"
   ]
  },
  {
   "cell_type": "code",
   "execution_count": 6,
   "id": "71fe7d43-5399-412d-83e7-493a61bfed3b",
   "metadata": {},
   "outputs": [],
   "source": [
    "# Loading the log data\n",
    "log_file = 'sample.log'\n",
    "log_data = parse_log(log_file)"
   ]
  },
  {
   "cell_type": "code",
   "execution_count": 7,
   "id": "4f25e5a5-010f-4ca6-9c18-465e7004bcd1",
   "metadata": {},
   "outputs": [
    {
     "name": "stdout",
     "output_type": "stream",
     "text": [
      "IP Address          Request Count\n",
      "203.0.113.5         8\n",
      "198.51.100.23       8\n",
      "192.168.1.1         7\n",
      "10.0.0.2            6\n",
      "192.168.1.100       5\n"
     ]
    }
   ],
   "source": [
    "# Counting and displaying requests per IP\n",
    "ip_counts = count_requests_per_ip(log_data)\n",
    "print(\"IP Address          Request Count\")\n",
    "for ip, count in ip_counts:\n",
    "    print(f\"{ip:<20}{count}\")"
   ]
  },
  {
   "cell_type": "code",
   "execution_count": null,
   "id": "0d389d02-22b8-44bf-b884-4d2f61bd79c4",
   "metadata": {},
   "outputs": [],
   "source": []
  },
  {
   "cell_type": "code",
   "execution_count": null,
   "id": "1200630d-b9b9-4802-a249-e73b4859655c",
   "metadata": {},
   "outputs": [],
   "source": []
  },
  {
   "cell_type": "markdown",
   "id": "b1b006c7-a970-4085-ac90-1a445ca8bb96",
   "metadata": {},
   "source": [
    "**Most Accessed Endpoint**"
   ]
  },
  {
   "cell_type": "code",
   "execution_count": 8,
   "id": "d89debb1-1cbe-4e84-849f-bf759eb99c83",
   "metadata": {},
   "outputs": [],
   "source": [
    "def most_frequent_endpoint(log_data):\n",
    "    endpoint_counts = defaultdict(int)\n",
    "    for entry in log_data:\n",
    "        endpoint_counts[entry['endpoint']] += 1\n",
    "    most_accessed = max(endpoint_counts.items(), key=lambda x: x[1])\n",
    "    return most_accessed"
   ]
  },
  {
   "cell_type": "code",
   "execution_count": 9,
   "id": "b489c576-6a92-4a1d-9d7b-bee8979d7578",
   "metadata": {},
   "outputs": [
    {
     "name": "stdout",
     "output_type": "stream",
     "text": [
      "Most Frequently Accessed Endpoint:\n",
      "/login (Accessed 13 times)\n"
     ]
    }
   ],
   "source": [
    "# Identifying the most frequently accessed endpoint\n",
    "most_accessed = most_frequent_endpoint(log_data)\n",
    "print(\"Most Frequently Accessed Endpoint:\")\n",
    "print(f\"{most_accessed[0]} (Accessed {most_accessed[1]} times)\")"
   ]
  },
  {
   "cell_type": "code",
   "execution_count": null,
   "id": "154d7a66-be15-4fc0-b0e9-78672892663e",
   "metadata": {},
   "outputs": [],
   "source": []
  },
  {
   "cell_type": "code",
   "execution_count": null,
   "id": "ce55f7ae-ce09-47c3-833e-20e19ac23617",
   "metadata": {},
   "outputs": [],
   "source": []
  },
  {
   "cell_type": "markdown",
   "id": "13f7c8d4-6eed-48bc-9fac-512e1705b8d5",
   "metadata": {},
   "source": [
    "**Suspicious Activity**"
   ]
  },
  {
   "cell_type": "code",
   "execution_count": 10,
   "id": "8dcce979-f0b9-4c9f-b3ef-c2fa85c1733b",
   "metadata": {},
   "outputs": [],
   "source": [
    "def detect_suspicious_activity(log_data, threshold=10):\n",
    "    failed_attempts = defaultdict(int)\n",
    "    for entry in log_data:\n",
    "        if entry['status'] == 401:\n",
    "            failed_attempts[entry['ip']] += 1\n",
    "    return {ip: count for ip, count in failed_attempts.items() if count > threshold}"
   ]
  },
  {
   "cell_type": "code",
   "execution_count": 11,
   "id": "b7e4ac6d-7434-4038-b098-be7ccccc6ef8",
   "metadata": {},
   "outputs": [],
   "source": [
    "# Detecting suspicious activity\n",
    "failed_login_threshold = 10\n",
    "suspicious_ips = detect_suspicious_activity(log_data, failed_login_threshold)"
   ]
  },
  {
   "cell_type": "code",
   "execution_count": 12,
   "id": "bfcf323c-3d4f-4f39-80ca-d90777e17def",
   "metadata": {},
   "outputs": [
    {
     "name": "stdout",
     "output_type": "stream",
     "text": [
      "Suspicious Activity Detected:\n",
      "IP Address        Failed Login Attempts\n",
      "None\n"
     ]
    }
   ],
   "source": [
    "# Displaying suspicious activity\n",
    "print(\"Suspicious Activity Detected:\\nIP Address        Failed Login Attempts\")\n",
    "if suspicious_ips:\n",
    "    for ip, count in suspicious_ips.items():\n",
    "        print(f\"{ip:<20}{count}\")\n",
    "else:\n",
    "    print(\"None\")"
   ]
  },
  {
   "cell_type": "code",
   "execution_count": null,
   "id": "63ba5c5f-71a4-4e3a-9a19-7fbae084edd7",
   "metadata": {},
   "outputs": [],
   "source": []
  },
  {
   "cell_type": "code",
   "execution_count": null,
   "id": "fe3a3b2e-dac6-4a5f-9d39-483e93075570",
   "metadata": {},
   "outputs": [],
   "source": []
  },
  {
   "cell_type": "markdown",
   "id": "b1af19fc-85f7-4fa6-a6a9-8707ba87355c",
   "metadata": {},
   "source": [
    "**Saving the result in the desired format**"
   ]
  },
  {
   "cell_type": "code",
   "execution_count": 13,
   "id": "9d1213eb-fd1a-465f-9b47-10ea50865c3c",
   "metadata": {},
   "outputs": [],
   "source": [
    "def save_results_to_csv(ip_counts, most_accessed, suspicious_activities, file_path):\n",
    "    with open(file_path, 'w', newline='') as csvfile:\n",
    "        writer = csv.writer(csvfile)\n",
    "\n",
    "        # Requests per IP\n",
    "        writer.writerow([\"********** Requests per IP **********\"])\n",
    "        writer.writerow([\"IP Address\", \"Request Count\"])\n",
    "        writer.writerows(ip_counts)\n",
    "        writer.writerow([])\n",
    "\n",
    "        # Most Accessed Endpoint\n",
    "        writer.writerow([\"********** Most Frequently Accessed Endpoint **********\"])\n",
    "        writer.writerow([\"Endpoint\", \"Access Count\"])\n",
    "        writer.writerow(most_accessed)\n",
    "        writer.writerow([])\n",
    "\n",
    "        # Suspicious Activity\n",
    "        writer.writerow([\"********** Suspicious Activity **********\"])\n",
    "        writer.writerow([\"IP Address\", \"Failed Login Count\"])\n",
    "        writer.writerows(suspicious_activities.items())\n",
    "        writer.writerow([])\n",
    "\n",
    "\n",
    "save_results_to_csv(ip_counts, most_accessed, suspicious_ips, \"log_analysis_results.csv\")"
   ]
  },
  {
   "cell_type": "code",
   "execution_count": null,
   "id": "431ec67a-feee-4eab-b7ae-539aeb32d012",
   "metadata": {},
   "outputs": [],
   "source": []
  },
  {
   "cell_type": "code",
   "execution_count": null,
   "id": "de863b5a-f24e-400e-9702-8dad64169ac9",
   "metadata": {},
   "outputs": [],
   "source": []
  }
 ],
 "metadata": {
  "kernelspec": {
   "display_name": "Python 3 (ipykernel)",
   "language": "python",
   "name": "python3"
  },
  "language_info": {
   "codemirror_mode": {
    "name": "ipython",
    "version": 3
   },
   "file_extension": ".py",
   "mimetype": "text/x-python",
   "name": "python",
   "nbconvert_exporter": "python",
   "pygments_lexer": "ipython3",
   "version": "3.11.7"
  }
 },
 "nbformat": 4,
 "nbformat_minor": 5
}
